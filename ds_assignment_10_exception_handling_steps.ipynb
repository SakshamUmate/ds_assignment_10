{
 "cells": [
  {
   "cell_type": "markdown",
   "id": "fea7e215-70ac-4308-a889-aa19784b0508",
   "metadata": {},
   "source": [
    "Q1. Explain why we have to use the Exception class while creating a Custom Exception.\r\n",
    "Note: Here Exception class refers to the base class for all the exceptions."
   ]
  },
  {
   "cell_type": "markdown",
   "id": "7d2853a8-f139-41e2-bd1b-cca5cb8e1e0f",
   "metadata": {},
   "source": [
    "When creating custom exceptions in a programming language like Python, it is recommended to derive your custom exception class from the built-in Exception class. The Exception class serves as the base class for all exceptions in Python, forming the hierarchy for handling errors and exceptional situations.\r\n",
    "\r\n",
    "Here are a few reasons why using the Exception class is beneficial when creating custom exceptions:\r\n",
    "\r\n",
    "Consistency with the Exception Hierarchy:\r\n",
    "\r\n",
    "By inheriting from Exception, your custom exception becomes part of the existing exception hierarchy. This hierarchy allows for a consistent and organized approach to handling different types of exceptions.\r\n",
    "The hierarchy includes various specialized exception classes (e.g., ValueError, TypeError, FileNotFoundError) that can be used for specific error scenarios. By using Exception as the base, your custom exception fits into this structure.\r\n",
    "Interoperability with Exception Handling Mechanisms:\r\n",
    "\r\n",
    "Exception handling mechanisms in programming languages often rely on the exception hierarchy to catch and handle specific types of exceptions. If your custom exception is derived from Exception, it can be caught along with other exceptions using a common except block.\r\n",
    "Clarity and Readability:\r\n",
    "\r\n",
    "Deriving from Exception makes the purpose of your custom exception clear. It signals to other developers that your class represents an exceptional condition and is intended to be used in exception-handling scenarios.\r\n",
    "Avoiding Ambiguity:\r\n",
    "\r\n",
    "If you create a custom exception without inheriting from Exception, it might be unclear to other developers and tools whether your class is intended for use in exception handling. Inheriting from Exception removes any ambiguity and aligns your custom exception with established conventions."
   ]
  },
  {
   "cell_type": "markdown",
   "id": "16f94a8e-ce77-43c8-afbb-6602d9474b05",
   "metadata": {},
   "source": [
    "Q2. Write a python program to print Python Exception Hierarchy."
   ]
  },
  {
   "cell_type": "code",
   "execution_count": 1,
   "id": "7f9bfb59-df24-488e-bb61-1e393bc7e91f",
   "metadata": {},
   "outputs": [
    {
     "name": "stdout",
     "output_type": "stream",
     "text": [
      "Exception\n",
      "    BaseException\n",
      "        object\n"
     ]
    }
   ],
   "source": [
    "def print_exception_hierarchy(exception_class, indent=0):\n",
    "    print(\" \" * indent + f\"{exception_class.__name__}\")\n",
    "    \n",
    "    # Recursive call for each base class\n",
    "    for base_class in exception_class.__bases__:\n",
    "        print_exception_hierarchy(base_class, indent + 4)\n",
    "\n",
    "# Start with the base Exception class\n",
    "print_exception_hierarchy(Exception)"
   ]
  },
  {
   "cell_type": "markdown",
   "id": "ac08398d-3e93-4eab-b4c6-4fa7eb3b78f6",
   "metadata": {},
   "source": [
    "In Python, the exception hierarchy is organized in a way that allows for different types of exceptions to be caught and handled more specifically. You can print the Python Exception Hierarchy using the following Python program:\n",
    "This program defines a recursive function print_exception_hierarchy that takes an exception class and prints its name along with its base classes, recursively. The base case is when the base class has no further base classes."
   ]
  },
  {
   "cell_type": "markdown",
   "id": "4f574a50-cace-4d75-8ffa-f6ed371a9b65",
   "metadata": {},
   "source": [
    "Q3. What errors are defined in the ArithmeticError class? Explain any two with an example."
   ]
  },
  {
   "cell_type": "markdown",
   "id": "7bf63e44-3f6a-4af2-9dc8-eaebdab6dabe",
   "metadata": {},
   "source": [
    "The ArithmeticError class is a base class for all errors that occur during arithmetic operations in Python. It serves as a parent class for various specific arithmetic-related exception classes. Two common errors defined in the ArithmeticError hierarchy are ZeroDivisionError and OverflowError."
   ]
  },
  {
   "cell_type": "code",
   "execution_count": 2,
   "id": "f07eb7fd-a568-4175-b37b-5b4c7df83d1f",
   "metadata": {},
   "outputs": [
    {
     "name": "stdout",
     "output_type": "stream",
     "text": [
      "division by zero\n"
     ]
    }
   ],
   "source": [
    "try :\n",
    "    9/0\n",
    "except ZeroDivisionError as e:\n",
    "    print(e)"
   ]
  },
  {
   "cell_type": "code",
   "execution_count": 19,
   "id": "ff7c5a8d-3f28-4293-9e1e-3d97af675708",
   "metadata": {},
   "outputs": [],
   "source": [
    "try:\n",
    "    result = 2**100000000\n",
    "except Exception as e:#OverflowError\n",
    "    print(f\"Error: {e}\")"
   ]
  },
  {
   "cell_type": "code",
   "execution_count": 12,
   "id": "b8e06506-c7be-4d6d-b8a7-99709b0bdad2",
   "metadata": {},
   "outputs": [],
   "source": [
    "import math\n",
    "try:\n",
    "    result = math.sqrt(-1)\n",
    "except FloatingPointError as e:\n",
    "    print(f\"Error: {e}\")"
   ]
  },
  {
   "cell_type": "markdown",
   "id": "991720b6-2a2a-4b6a-89b0-51a636dc4312",
   "metadata": {},
   "source": [
    "The LookupError class is a base class for exceptions that occur when a key or index is not found. It is a subclass of the more general Exception class in Python. LookupError itself does not define specific error types but serves as a common ancestor for exceptions related to lookup operations.\r\n",
    "\r\n",
    "Two common exceptions that inherit from LookupError are KeyError and IndexError.\r\n",
    "\r\n",
    "KeyError:\r\n",
    "\r\n",
    "Raised when a dictionary key is not \n",
    "IndexError:\r\n",
    "\r\n",
    "Raised when a sequence subscript is out of rang\n",
    "e.found.found."
   ]
  },
  {
   "cell_type": "code",
   "execution_count": 21,
   "id": "906d0aa4-1e55-4aed-9327-a6c6421601c2",
   "metadata": {},
   "outputs": [
    {
     "name": "stdout",
     "output_type": "stream",
     "text": [
      "Error: 'd'\n"
     ]
    }
   ],
   "source": [
    "my_dict = {'a': 1, 'b': 2, 'c': 3}\n",
    "\n",
    "try:\n",
    "    value = my_dict['d']\n",
    "except KeyError as e:\n",
    "    print(f\"Error: {e}\")\n"
   ]
  },
  {
   "cell_type": "code",
   "execution_count": 22,
   "id": "0c440cd9-3405-4a4b-9619-5e3a01ca79a8",
   "metadata": {},
   "outputs": [
    {
     "name": "stdout",
     "output_type": "stream",
     "text": [
      "Error: list index out of range\n"
     ]
    }
   ],
   "source": [
    "my_list = [1, 2, 3, 4, 5]\n",
    "\n",
    "try:\n",
    "    value = my_list[10]\n",
    "except IndexError as e:\n",
    "    print(f\"Error: {e}\")\n"
   ]
  },
  {
   "cell_type": "markdown",
   "id": "21e8e6c9-9a6a-4ee8-96b8-f39e5004e63c",
   "metadata": {},
   "source": [
    "Q5. Explain ImportError. What is ModuleNotFoundError?"
   ]
  },
  {
   "cell_type": "code",
   "execution_count": 23,
   "id": "0ed571de-c388-48c3-ac63-6d9963b0ad91",
   "metadata": {},
   "outputs": [
    {
     "name": "stdout",
     "output_type": "stream",
     "text": [
      "Module Not Found Error: No module named 'non_existent_module'\n"
     ]
    }
   ],
   "source": [
    "try:\n",
    "    import non_existent_module\n",
    "except ModuleNotFoundError as e:\n",
    "    print(f\"Module Not Found Error: {e}\")\n"
   ]
  },
  {
   "cell_type": "markdown",
   "id": "5499a159-cda6-4de9-bce6-d0eab85f04e0",
   "metadata": {},
   "source": [
    "Q6. List down some best practices for exception handling in python."
   ]
  },
  {
   "cell_type": "markdown",
   "id": "ad8d62b3-d343-4cf0-b9e9-1e7c0ddf55c3",
   "metadata": {},
   "source": [
    "1:Use Specific Exceptions:\r\n",
    "\r\n",
    "Catch specific exceptions rather than using broad exceptions like Exception. This allows for more targeted error handling and avoids catching unexpected errors\n",
    "2:.\n",
    "Avoid Bare except::\r\n",
    "\r\n",
    "Avoid using bare except: without specifying the exception type. This can make debugging difficult and catch unexpected err\n",
    "\n",
    "3:Use finally for Cleanup:\r\n",
    "\r\n",
    "Use a finally block to ensure that cleanup code (e.g., closing files or releasing resources) is executed, regardless of whether an exception occurre\n",
    "\n",
    "4:Handle Exceptions Close to the Source:\r\n",
    "\r\n",
    "Handle exceptions as close to the source of the error as possible. This makes the code more readable and helps identify the cause of the exception easil\n",
    "\n",
    "5:Log Exceptions:\r\n",
    "\r\n",
    "Use logging to record information about exceptions. Logging helps in debugging and monitoring application behavio\n",
    "6:Fail Fast:\r\n",
    "\r\n",
    "Identify potential issues early in the code and raise exceptions as soon as a problem is detected. This helps in pinpointing the root cause of errors quickl\n",
    "7:Document Exception Handling:\r\n",
    "\r\n",
    "Document the exceptions that a function or piece of code may raise. This helps other developers understand the expected behavior and handle exceptions appropriatel\n",
    "8:Use try-except Blocks Sparingly:\r\n",
    "\r\n",
    "Only use try-except blocks when necessary. Avoid using them for normal program flow as it can make the code harder to read and understand.y.y.r.y.d.ors."
   ]
  },
  {
   "cell_type": "code",
   "execution_count": null,
   "id": "a6fa6ee9-66ea-4315-a9c5-5abe64b9e5bc",
   "metadata": {},
   "outputs": [],
   "source": []
  }
 ],
 "metadata": {
  "kernelspec": {
   "display_name": "Python 3 (ipykernel)",
   "language": "python",
   "name": "python3"
  },
  "language_info": {
   "codemirror_mode": {
    "name": "ipython",
    "version": 3
   },
   "file_extension": ".py",
   "mimetype": "text/x-python",
   "name": "python",
   "nbconvert_exporter": "python",
   "pygments_lexer": "ipython3",
   "version": "3.11.4"
  }
 },
 "nbformat": 4,
 "nbformat_minor": 5
}
